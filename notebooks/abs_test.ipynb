{
 "cells": [
  {
   "cell_type": "code",
   "execution_count": 1,
   "metadata": {
    "collapsed": true
   },
   "outputs": [],
   "source": [
    "%matplotlib inline\n",
    "\n",
    "import numpy as np\n",
    "import matplotlib.pyplot as plt\n",
    "import xsmodels as xs"
   ]
  },
  {
   "cell_type": "code",
   "execution_count": 4,
   "metadata": {
    "collapsed": true
   },
   "outputs": [],
   "source": [
    "def makeSpec(e1=0.1, e2=10.0, nFlux=99):\n",
    "\n",
    "    ebins = np.logspace(np.log10(e1), np.log10(e2), num=nFlux+1, base=10.0)\n",
    "    \n",
    "    kerrbbParams = np.array([0.0, 0.9, 60.0, 10.0, 1.0, 10.0, 1.7, 1.0, 0.0, 1.0])\n",
    "    tbabsParams = np.array([1.0])\n",
    "    \n",
    "    fraw = np.zeros(nFlux)\n",
    "    frawerr = np.zeros(nFlux)\n",
    "    f = np.zeros(nFlux)\n",
    "    ferr = np.zeros(nFlux)\n",
    "    tbabs = np.zeros(nFlux)\n",
    "    tbabserr = np.zeros(nFlux)\n",
    "    \n",
    "    xs.model(\"kerrbb\", ebins, kerrbbParams, 0, fraw, frawerr)\n",
    "    xs.model(\"tbabs\", ebins, tbabsParams, 0, tbabs, tbabserr)\n",
    "    \n",
    "    f = tbabs * fraw\n",
    "    ferr = f * (frawerr/fraw + tbabserr/tbabs)\n",
    "    \n",
    "    return ebins, f, ferr, fraw, frawerr"
   ]
  },
  {
   "cell_type": "code",
   "execution_count": 6,
   "metadata": {},
   "outputs": [
    {
     "data": {
      "text/plain": [
       "(0.0001, 1.0)"
      ]
     },
     "execution_count": 6,
     "metadata": {},
     "output_type": "execute_result"
    },
    {
     "data": {
      "image/png": "[encoded data removed]",
      "text/plain": [
       "<matplotlib.figure.Figure at 0x117eaa470>"
      ]
     },
     "metadata": {},
     "output_type": "display_data"
    }
   ],
   "source": [
    "ebins, f, ferr, fraw, frawerr = makeSpec(nFlux=200)\n",
    "\n",
    "en = 0.5*(ebins[:-1] + ebins[1:])\n",
    "\n",
    "fig, ax = plt.subplots(1,1, figsize=(8,6))\n",
    "ax.errorbar(en, fraw, frawerr, fmt='b.', ecolor='b')\n",
    "ax.errorbar(en, f, ferr, fmt='k.', ecolor='k')\n",
    "ax.set_xscale('log')\n",
    "ax.set_yscale('log')\n",
    "ax.set_xlabel(r'$E$ (keV)')\n",
    "ax.set_ylabel(r'$F$ (?)')\n",
    "ax.set_ylim(1.0e-4, 1.0)"
   ]
  },
  {
   "cell_type": "code",
   "execution_count": null,
   "metadata": {},
   "outputs": [],
   "source": []
  },
  {
   "cell_type": "code",
   "execution_count": null,
   "metadata": {
    "collapsed": true
   },
   "outputs": [],
   "source": []
  }
 ],
 "metadata": {
  "kernelspec": {
   "display_name": "Python 3",
   "language": "python",
   "name": "python3"
  },
  "language_info": {
   "codemirror_mode": {
    "name": "ipython",
    "version": 3
   },
   "file_extension": ".py",
   "mimetype": "text/x-python",
   "name": "python",
   "nbconvert_exporter": "python",
   "pygments_lexer": "ipython3",
   "version": "3.6.1"
  }
 },
 "nbformat": 4,
 "nbformat_minor": 2
}
